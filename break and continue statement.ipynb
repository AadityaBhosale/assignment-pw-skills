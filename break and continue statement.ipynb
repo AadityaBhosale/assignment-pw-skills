{
 "cells": [
  {
   "cell_type": "code",
   "execution_count": 1,
   "id": "4570b143-bb11-4eb7-a7dc-652d2648acc3",
   "metadata": {},
   "outputs": [
    {
     "name": "stdout",
     "output_type": "stream",
     "text": [
      "1\n",
      "2\n",
      "3\n",
      "4\n"
     ]
    }
   ],
   "source": [
    "#1 \n",
    "for number in range(1, 11):\n",
    "    # Check if the number is 5\n",
    "    if number == 5:\n",
    "        # If the number is 5, stop the loop\n",
    "        break\n",
    "    # Print the number if it's not 5\n",
    "    print(number)"
   ]
  },
  {
   "cell_type": "code",
   "execution_count": 2,
   "id": "53d0518b-1ab1-438e-9dc2-9100f66d4c51",
   "metadata": {},
   "outputs": [
    {
     "name": "stdout",
     "output_type": "stream",
     "text": [
      "The sum of numbers from 1 to 10 is: 55\n"
     ]
    }
   ],
   "source": [
    "#2 \n",
    "number = 1\n",
    "total = 0\n",
    "\n",
    "# Use a while loop to iterate from 1 to 10 and calculate the sum\n",
    "while number <= 10:\n",
    "    total += number  # Add the current number to the total\n",
    "    number += 1      # Increment the number for the next iteration\n",
    "\n",
    "# Print the sum of numbers from 1 to 10\n",
    "print(\"The sum of numbers from 1 to 10 is:\", total)"
   ]
  },
  {
   "cell_type": "code",
   "execution_count": 3,
   "id": "cc348432-2e0d-452d-be0c-12e3c1e72962",
   "metadata": {},
   "outputs": [
    {
     "name": "stdout",
     "output_type": "stream",
     "text": [
      "1\n",
      "3\n",
      "5\n",
      "7\n",
      "9\n"
     ]
    }
   ],
   "source": [
    "#3 \n",
    "# Iterate through numbers from 1 to 10\n",
    "for number in range(1, 11):\n",
    "    # Check if the number is even\n",
    "    if number % 2 == 0:\n",
    "        # If the number is even, skip it\n",
    "        continue\n",
    "    # Print the number if it's odd\n",
    "    print(number)"
   ]
  },
  {
   "cell_type": "code",
   "execution_count": 4,
   "id": "07e58b8e-312d-4e83-8da2-c0da5359ddfb",
   "metadata": {},
   "outputs": [
    {
     "name": "stdout",
     "output_type": "stream",
     "text": [
      "0\n",
      "1\n",
      "2\n",
      "3\n",
      "4\n",
      "5\n",
      "6\n",
      "7\n",
      "8\n",
      "9\n"
     ]
    }
   ],
   "source": [
    "#4\n",
    "# Using range() to print numbers from 0 to 9\n",
    "for number in range(10):\n",
    "    print(number)"
   ]
  },
  {
   "cell_type": "code",
   "execution_count": 5,
   "id": "64494dc1-0ef5-427c-a3ed-97dfd9e4d74c",
   "metadata": {},
   "outputs": [
    {
     "name": "stdout",
     "output_type": "stream",
     "text": [
      "Multiplication table for 1:\n",
      "1 * 1 = 1\n",
      "1 * 2 = 2\n",
      "1 * 3 = 3\n",
      "1 * 4 = 4\n",
      "1 * 5 = 5\n",
      "1 * 6 = 6\n",
      "1 * 7 = 7\n",
      "1 * 8 = 8\n",
      "1 * 9 = 9\n",
      "1 * 10 = 10\n",
      "\n",
      "Multiplication table for 2:\n",
      "2 * 1 = 2\n",
      "2 * 2 = 4\n",
      "2 * 3 = 6\n",
      "2 * 4 = 8\n",
      "2 * 5 = 10\n",
      "2 * 6 = 12\n",
      "2 * 7 = 14\n",
      "2 * 8 = 16\n",
      "2 * 9 = 18\n",
      "2 * 10 = 20\n",
      "\n",
      "Multiplication table for 3:\n",
      "3 * 1 = 3\n",
      "3 * 2 = 6\n",
      "3 * 3 = 9\n",
      "3 * 4 = 12\n",
      "3 * 5 = 15\n",
      "3 * 6 = 18\n",
      "3 * 7 = 21\n",
      "3 * 8 = 24\n",
      "3 * 9 = 27\n",
      "3 * 10 = 30\n",
      "\n",
      "Multiplication table for 4:\n",
      "4 * 1 = 4\n",
      "4 * 2 = 8\n",
      "4 * 3 = 12\n",
      "4 * 4 = 16\n",
      "4 * 5 = 20\n",
      "4 * 6 = 24\n",
      "4 * 7 = 28\n",
      "4 * 8 = 32\n",
      "4 * 9 = 36\n",
      "4 * 10 = 40\n",
      "\n",
      "Multiplication table for 5:\n",
      "5 * 1 = 5\n",
      "5 * 2 = 10\n",
      "5 * 3 = 15\n",
      "5 * 4 = 20\n",
      "5 * 5 = 25\n",
      "5 * 6 = 30\n",
      "5 * 7 = 35\n",
      "5 * 8 = 40\n",
      "5 * 9 = 45\n",
      "5 * 10 = 50\n",
      "\n"
     ]
    }
   ],
   "source": [
    "#5\n",
    "# Iterate through numbers from 1 to 5\n",
    "for number in range(1, 6):\n",
    "    print(f\"Multiplication table for {number}:\")\n",
    "    # Iterate through multipliers from 1 to 10\n",
    "    for multiplier in range(1, 11):\n",
    "        # Print the multiplication result\n",
    "        print(f\"{number} * {multiplier} = {number * multiplier}\")\n",
    "    print()  # Print a blank line after each table"
   ]
  },
  {
   "cell_type": "code",
   "execution_count": 6,
   "id": "0495f1d0-1af5-490a-91ab-183acca98e11",
   "metadata": {},
   "outputs": [
    {
     "name": "stdout",
     "output_type": "stream",
     "text": [
      "1\n",
      "3\n",
      "5\n",
      "7\n",
      "9\n"
     ]
    }
   ],
   "source": [
    "#6\n",
    "number = 1\n",
    "\n",
    "# Using a while loop to print numbers and skip even numbers\n",
    "while number <= 10:\n",
    "    # Check if the number is even\n",
    "    if number % 2 == 0:\n",
    "        # If the number is even, skip printing\n",
    "        number += 1\n",
    "        continue\n",
    "    # Print the number if it's odd\n",
    "    print(number)\n",
    "    # Move to the next number\n",
    "    number += 1\n"
   ]
  },
  {
   "cell_type": "code",
   "execution_count": null,
   "id": "2deff5a7-b279-49ec-8ab2-becf8161bf57",
   "metadata": {},
   "outputs": [],
   "source": []
  }
 ],
 "metadata": {
  "kernelspec": {
   "display_name": "Python 3 (ipykernel)",
   "language": "python",
   "name": "python3"
  },
  "language_info": {
   "codemirror_mode": {
    "name": "ipython",
    "version": 3
   },
   "file_extension": ".py",
   "mimetype": "text/x-python",
   "name": "python",
   "nbconvert_exporter": "python",
   "pygments_lexer": "ipython3",
   "version": "3.10.8"
  }
 },
 "nbformat": 4,
 "nbformat_minor": 5
}
