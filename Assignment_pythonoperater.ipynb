{
 "cells": [
  {
   "cell_type": "code",
   "execution_count": 1,
   "id": "c43f3435-d14f-49a1-9f62-7cdf64270f31",
   "metadata": {},
   "outputs": [
    {
     "name": "stdin",
     "output_type": "stream",
     "text": [
      "Enter the first number:  2\n",
      "Enter the second number:  3\n"
     ]
    },
    {
     "name": "stdout",
     "output_type": "stream",
     "text": [
      "Sum: 5.0\n",
      "Difference: -1.0\n",
      "Product: 6.0\n",
      "Quotient: 0.6666666666666666\n"
     ]
    }
   ],
   "source": [
    "# Q1) CalcUlate the sUm, difference, prodUct, and qUotient of two nUmbers.\n",
    "# Input two numbers\n",
    "num1 = float(input(\"Enter the first number: \"))\n",
    "num2 = float(input(\"Enter the second number: \"))\n",
    "\n",
    "# Calculate sum\n",
    "sum_result = num1 + num2\n",
    "\n",
    "# Calculate difference\n",
    "difference_result = num1 - num2\n",
    "\n",
    "# Calculate product\n",
    "product_result = num1 * num2\n",
    "\n",
    "# Check if num2 is not zero to avoid division by zero error\n",
    "if num2 != 0:\n",
    "    # Calculate quotient\n",
    "    quotient_result = num1 / num2\n",
    "else:\n",
    "    quotient_result = \"Undefined (division by zero)\"\n",
    "\n",
    "# Print results\n",
    "print(\"Sum:\", sum_result)\n",
    "print(\"Difference:\", difference_result)\n",
    "print(\"Product:\", product_result)\n",
    "print(\"Quotient:\", quotient_result)"
   ]
  },
  {
   "cell_type": "code",
   "execution_count": 2,
   "id": "b3723c2e-8e0d-44aa-b1bd-84f77be3c825",
   "metadata": {},
   "outputs": [
    {
     "name": "stdout",
     "output_type": "stream",
     "text": [
      "After addition, x is 15\n",
      "After subtraction, x is 12\n",
      "After multiplication, x is 24\n",
      "After division, x is 6.0\n",
      "After floor division, x is 3.0\n",
      "After modulus operation, x is 0.0\n",
      "After exponentiation, x is 0.0\n"
     ]
    }
   ],
   "source": [
    "# Q2) PERFORM VARIOUS ASSIGNMENT OPERATIONS ON A VARIABLE\n",
    "# Initialize a variable\n",
    "x = 10\n",
    "\n",
    "# Perform various assignment operations\n",
    "x += 5  # Same as x = x + 5\n",
    "print(\"After addition, x is\", x)\n",
    "\n",
    "x -= 3  # Same as x = x - 3\n",
    "print(\"After subtraction, x is\", x)\n",
    "\n",
    "x *= 2  # Same as x = x * 2\n",
    "print(\"After multiplication, x is\", x)\n",
    "\n",
    "x /= 4  # Same as x = x / 4\n",
    "print(\"After division, x is\", x)\n",
    "\n",
    "x //= 2  # Same as x = x // 2 (Floor division)\n",
    "print(\"After floor division, x is\", x)\n",
    "\n",
    "x %= 3  # Same as x = x % 3 (Modulus)\n",
    "print(\"After modulus operation, x is\", x)\n",
    "\n",
    "x **= 2  # Same as x = x ** 2 (Exponentiation)\n",
    "print(\"After exponentiation, x is\", x)"
   ]
  },
  {
   "cell_type": "code",
   "execution_count": 3,
   "id": "0b64dca8-1853-4a77-9807-7035aa0a6278",
   "metadata": {},
   "outputs": [
    {
     "name": "stdin",
     "output_type": "stream",
     "text": [
      "Enter the first number:  5\n",
      "Enter the second number:  10\n"
     ]
    },
    {
     "name": "stdout",
     "output_type": "stream",
     "text": [
      "The second number 10.0 is greater than the first number 5.0\n"
     ]
    }
   ],
   "source": [
    "# Q3) COMPARE TWO VALUES AND PRINT THE NUMBERS\n",
    "# Input two numbers\n",
    "num1 = float(input(\"Enter the first number: \"))\n",
    "num2 = float(input(\"Enter the second number: \"))\n",
    "\n",
    "# Compare the two numbers\n",
    "if num1 > num2:\n",
    "    print(\"The first number\", num1, \"is greater than the second number\", num2)\n",
    "elif num1 < num2:\n",
    "    print(\"The second number\", num2, \"is greater than the first number\", num1)\n",
    "else:\n",
    "    print(\"Both numbers are equal:\", num1, \"=\", num2)"
   ]
  },
  {
   "cell_type": "code",
   "execution_count": 5,
   "id": "50d417e5-4e8a-4a3a-9bd9-088d2c8e4c55",
   "metadata": {},
   "outputs": [
    {
     "name": "stdout",
     "output_type": "stream",
     "text": [
      "Both conditions are True: x < y and y < z\n",
      "At least one condition is True: x > y or y < z\n",
      "x is not equal to y\n",
      "Combination of logical operators is True\n",
      "The condition x < y < z is True\n",
      "x is less than y and y is less than z\n",
      "x is equal to 5 and y is equal to 10\n"
     ]
    }
   ],
   "source": [
    "# Q4) CHECK CONDITIONS USING LOGICAL OPERATORS\n",
    "# Define variables\n",
    "x = 5\n",
    "y = 10\n",
    "z = 15\n",
    "\n",
    "# Logical AND operator\n",
    "if x < y and y < z:\n",
    "    print(\"Both conditions are True: x < y and y < z\")\n",
    "\n",
    "# Logical OR operator\n",
    "if x > y or y < z:\n",
    "    print(\"At least one condition is True: x > y or y < z\")\n",
    "\n",
    "# Logical NOT operator\n",
    "if not (x == y):\n",
    "    print(\"x is not equal to y\")\n",
    "\n",
    "# Combining logical operators\n",
    "if x < y and y < z or z > x:\n",
    "    print(\"Combination of logical operators is True\")\n",
    "\n",
    "# Checking conditions with logical operators\n",
    "if x < y < z:\n",
    "    print(\"The condition x < y < z is True\")\n",
    "\n",
    "# Multiple conditions with logical operators\n",
    "if x < y and y < z:\n",
    "    print(\"x is less than y and y is less than z\")\n",
    "\n",
    "# Using logical operators to check conditions\n",
    "if x == 5 and y == 10:\n",
    "    print(\"x is equal to 5 and y is equal to 10\")"
   ]
  },
  {
   "cell_type": "code",
   "execution_count": 6,
   "id": "727a8142-e5e7-459c-b93c-719b783919fc",
   "metadata": {},
   "outputs": [
    {
     "name": "stdout",
     "output_type": "stream",
     "text": [
      "Identity of variable 'a': 140355474014736\n",
      "Identity of variable 'b': 140355474014736\n",
      "Identity of variable 'c': 140355425030144\n",
      "Identity of variable 'd': 140355425431872\n",
      "Is 'a' the same object as 'b'? True\n",
      "Is 'c' the same object as 'd'? False\n"
     ]
    }
   ],
   "source": [
    "# Q5) CHECK THE IDENTITY OF VARIABLES\n",
    "# Define variables\n",
    "a = 10\n",
    "b = 10\n",
    "c = [1, 2, 3]\n",
    "d = [1, 2, 3]\n",
    "\n",
    "# Check identity using id() function\n",
    "print(\"Identity of variable 'a':\", id(a))\n",
    "print(\"Identity of variable 'b':\", id(b))\n",
    "print(\"Identity of variable 'c':\", id(c))\n",
    "print(\"Identity of variable 'd':\", id(d))\n",
    "\n",
    "# Check if variables refer to the same object\n",
    "print(\"Is 'a' the same object as 'b'?\", a is b)\n",
    "print(\"Is 'c' the same object as 'd'?\", c is d)"
   ]
  },
  {
   "cell_type": "code",
   "execution_count": 9,
   "id": "22179458-a683-477d-8ae7-418ec8a6b409",
   "metadata": {},
   "outputs": [
    {
     "name": "stdin",
     "output_type": "stream",
     "text": [
      "Enter the first integer:  2\n",
      "Enter the second integer:  3\n"
     ]
    },
    {
     "name": "stdout",
     "output_type": "stream",
     "text": [
      "Bitwise AND: 2\n",
      "Bitwise OR: 3\n",
      "Bitwise XOR: 1\n",
      "Bitwise NOT of num1: -3\n",
      "Bitwise NOT of num2: -4\n",
      "Bitwise left shift of num1: 4\n",
      "Bitwise left shift of num2: 6\n",
      "Bitwise right shift of num1: 1\n",
      "Bitwise right shift of num2: 1\n"
     ]
    }
   ],
   "source": [
    "# Q6) PERFORM BITWISE OPERATIONS ON ANY TWO INTEGERS\n",
    "# Input two integers\n",
    "num1 = int(input(\"Enter the first integer: \"))\n",
    "num2 = int(input(\"Enter the second integer: \"))\n",
    "\n",
    "# Bitwise AND operation\n",
    "bitwise_and = num1 & num2\n",
    "print(\"Bitwise AND:\", bitwise_and)\n",
    "\n",
    "# Bitwise OR operation\n",
    "bitwise_or = num1 | num2\n",
    "print(\"Bitwise OR:\", bitwise_or)\n",
    "\n",
    "# Bitwise XOR operation\n",
    "bitwise_xor = num1 ^ num2\n",
    "print(\"Bitwise XOR:\", bitwise_xor)\n",
    "\n",
    "# Bitwise NOT operation\n",
    "bitwise_not_num1 = ~num1\n",
    "bitwise_not_num2 = ~num2\n",
    "print(\"Bitwise NOT of num1:\", bitwise_not_num1)\n",
    "print(\"Bitwise NOT of num2:\", bitwise_not_num2)\n",
    "\n",
    "# Bitwise left shift operation\n",
    "bitwise_left_shift_num1 = num1 << 1\n",
    "bitwise_left_shift_num2 = num2 << 1\n",
    "print(\"Bitwise left shift of num1:\", bitwise_left_shift_num1)\n",
    "print(\"Bitwise left shift of num2:\", bitwise_left_shift_num2)\n",
    "\n",
    "# Bitwise right shift operation\n",
    "bitwise_right_shift_num1 = num1 >> 1\n",
    "bitwise_right_shift_num2 = num2 >> 1\n",
    "print(\"Bitwise right shift of num1:\", bitwise_right_shift_num1)\n",
    "print(\"Bitwise right shift of num2:\", bitwise_right_shift_num2)"
   ]
  },
  {
   "cell_type": "code",
   "execution_count": 10,
   "id": "1b043ba2-9270-45a6-a026-c40965576240",
   "metadata": {},
   "outputs": [
    {
     "name": "stdin",
     "output_type": "stream",
     "text": [
      "Enter a number:  5\n"
     ]
    },
    {
     "name": "stdout",
     "output_type": "stream",
     "text": [
      "The number with changed sign is: -5.0\n"
     ]
    }
   ],
   "source": [
    "# Q7) USE UNARY OPERATOR TO CHANGETHE SIGN OF A NUMBER\n",
    "# Input a number\n",
    "number = float(input(\"Enter a number: \"))\n",
    "\n",
    "# Change the sign of the number using the unary operator -\n",
    "changed_sign = -number\n",
    "\n",
    "# Print the result\n",
    "print(\"The number with changed sign is:\", changed_sign)"
   ]
  },
  {
   "cell_type": "code",
   "execution_count": 11,
   "id": "da188d22-cca5-4285-9e69-79c7ffab6f1f",
   "metadata": {},
   "outputs": [
    {
     "name": "stdout",
     "output_type": "stream",
     "text": [
      "Value of x: 10\n",
      "Value of y: 40\n"
     ]
    }
   ],
   "source": [
    "#Q8) USSE TERNARY OPERATOR TO ASSIGN VALUES BASDED ON CONDITION\n",
    "# Define a condition\n",
    "condition = True\n",
    "\n",
    "# Assign values based on the condition using the ternary operator\n",
    "x = 10 if condition else 20\n",
    "print(\"Value of x:\", x)  # Output will be 10, as the condition is True\n",
    "\n",
    "# Another example with different condition\n",
    "y = 30 if not condition else 40\n",
    "print(\"Value of y:\", y)  # Output will be 40, as the condition is False"
   ]
  },
  {
   "cell_type": "code",
   "execution_count": null,
   "id": "f942565e-4a08-4653-887f-7d2364467eb9",
   "metadata": {},
   "outputs": [],
   "source": []
  }
 ],
 "metadata": {
  "kernelspec": {
   "display_name": "Python 3 (ipykernel)",
   "language": "python",
   "name": "python3"
  },
  "language_info": {
   "codemirror_mode": {
    "name": "ipython",
    "version": 3
   },
   "file_extension": ".py",
   "mimetype": "text/x-python",
   "name": "python",
   "nbconvert_exporter": "python",
   "pygments_lexer": "ipython3",
   "version": "3.10.8"
  }
 },
 "nbformat": 4,
 "nbformat_minor": 5
}
