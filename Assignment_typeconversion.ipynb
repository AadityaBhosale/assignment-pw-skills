{
 "cells": [
  {
   "cell_type": "code",
   "execution_count": 3,
   "id": "09244e89-21bd-4417-9415-ff669ecb6bfb",
   "metadata": {},
   "outputs": [
    {
     "name": "stdin",
     "output_type": "stream",
     "text": [
      "Enter an integer:  2\n"
     ]
    },
    {
     "name": "stdout",
     "output_type": "stream",
     "text": [
      "The floating-point number is: 2.0\n"
     ]
    }
   ],
   "source": [
    "# Q1) CONVERT INTERGER INTO FLOATING POINT NUMBER\n",
    "# Input an integer\n",
    "integer_number = int(input(\"Enter an integer: \"))\n",
    "\n",
    "# Convert the integer to a floating-point number\n",
    "float_number = float(integer_number)\n",
    "\n",
    "# Print the floating-point number\n",
    "print(\"The floating-point number is:\", float_number)"
   ]
  },
  {
   "cell_type": "code",
   "execution_count": 5,
   "id": "39f0fba2-9ae5-41ce-abd4-10bf0aad6815",
   "metadata": {},
   "outputs": [
    {
     "name": "stdin",
     "output_type": "stream",
     "text": [
      "Enter a floating-point number:  2.33\n"
     ]
    },
    {
     "name": "stdout",
     "output_type": "stream",
     "text": [
      "The integer number is: 2\n"
     ]
    }
   ],
   "source": [
    "# Q2) CONVERT FLOATING NUMBER INTO INTEGER\n",
    "# Input a floating-point number\n",
    "float_number = float(input(\"Enter a floating-point number: \"))\n",
    "\n",
    "# Convert the floating-point number to an integer\n",
    "integer_number = int(float_number)\n",
    "\n",
    "# Print the integer number\n",
    "print(\"The integer number is:\", integer_number)"
   ]
  },
  {
   "cell_type": "code",
   "execution_count": 6,
   "id": "2084ab16-0c05-43e3-886e-fb63beda2ae6",
   "metadata": {},
   "outputs": [
    {
     "name": "stdin",
     "output_type": "stream",
     "text": [
      "Enter an integer:  25\n"
     ]
    },
    {
     "name": "stdout",
     "output_type": "stream",
     "text": [
      "The string representation of the integer is: 25\n"
     ]
    }
   ],
   "source": [
    "# Q3) CONVERT INTERGER TO A STRING \n",
    "# Input an integer\n",
    "integer_number = int(input(\"Enter an integer: \"))\n",
    "\n",
    "# Convert the integer to a string\n",
    "string_number = str(integer_number)\n",
    "\n",
    "# Print the string representation of the integer\n",
    "print(\"The string representation of the integer is:\", string_number)"
   ]
  },
  {
   "cell_type": "code",
   "execution_count": 7,
   "id": "0c58bca0-3813-4bb6-bdf8-e635ff00a676",
   "metadata": {},
   "outputs": [
    {
     "name": "stdout",
     "output_type": "stream",
     "text": [
      "Tuple converted to list: [1, 2, 3, 4, 5]\n"
     ]
    }
   ],
   "source": [
    "# Q4) CONVERT A TUPLE TO LIST\n",
    "# Sample tuple\n",
    "my_tuple = (1, 2, 3, 4, 5)\n",
    "\n",
    "# Convert tuple to list\n",
    "my_list = list(my_tuple)\n",
    "\n",
    "# Print the converted list\n",
    "print(\"Tuple converted to list:\", my_list)"
   ]
  },
  {
   "cell_type": "code",
   "execution_count": 9,
   "id": "c92efc58-66cd-4418-b152-4f308b6d2444",
   "metadata": {},
   "outputs": [
    {
     "name": "stdin",
     "output_type": "stream",
     "text": [
      "Enter a decimal number:  3\n"
     ]
    },
    {
     "name": "stdout",
     "output_type": "stream",
     "text": [
      "Binary representation of 3 is 0b11\n"
     ]
    }
   ],
   "source": [
    "# Q5) CONVERT A DECIMAL NUMBER TO BINARY\n",
    "# Input a decimal number\n",
    "decimal_number = int(input(\"Enter a decimal number: \"))\n",
    "\n",
    "# Convert decimal to binary using bin() function\n",
    "binary_number = bin(decimal_number)\n",
    "\n",
    "# Print the binary representation\n",
    "print(\"Binary representation of\", decimal_number, \"is\", binary_number)"
   ]
  },
  {
   "cell_type": "code",
   "execution_count": 10,
   "id": "d5aad512-59d5-43db-a5d0-a5d31b84b2db",
   "metadata": {},
   "outputs": [
    {
     "name": "stdin",
     "output_type": "stream",
     "text": [
      "Enter a number:  65\n"
     ]
    },
    {
     "name": "stdout",
     "output_type": "stream",
     "text": [
      "The boolean value of 65.0 is True\n"
     ]
    }
   ],
   "source": [
    "# Q6) CONVERT NON ZERO NUMBER TO BOOLEAN\n",
    "# Input a non-zero number\n",
    "number = float(input(\"Enter a number: \"))\n",
    "\n",
    "# Convert the number to a boolean\n",
    "boolean_value = bool(number)\n",
    "\n",
    "# Print the boolean value\n",
    "print(\"The boolean value of\", number, \"is\", boolean_value)"
   ]
  },
  {
   "cell_type": "code",
   "execution_count": null,
   "id": "22699f75-2ec4-4b6c-96b7-527cd8133a13",
   "metadata": {},
   "outputs": [],
   "source": []
  },
  {
   "cell_type": "code",
   "execution_count": null,
   "id": "18330f88-d33a-4fd6-9579-132cfd8ea0fc",
   "metadata": {},
   "outputs": [],
   "source": []
  }
 ],
 "metadata": {
  "kernelspec": {
   "display_name": "Python 3 (ipykernel)",
   "language": "python",
   "name": "python3"
  },
  "language_info": {
   "codemirror_mode": {
    "name": "ipython",
    "version": 3
   },
   "file_extension": ".py",
   "mimetype": "text/x-python",
   "name": "python",
   "nbconvert_exporter": "python",
   "pygments_lexer": "ipython3",
   "version": "3.10.8"
  }
 },
 "nbformat": 4,
 "nbformat_minor": 5
}
